{
 "cells": [
  {
   "cell_type": "markdown",
   "metadata": {},
   "source": [
    "# Guided Test Case Generation System Notebook"
   ]
  },
  {
   "cell_type": "code",
   "execution_count": 58,
   "metadata": {},
   "outputs": [],
   "source": [
    "import re\n",
    "import string\n",
    "\n",
    "import numpy as np\n",
    "import pandas as pd\n",
    "import matplotlib.pyplot as plt\n",
    "import seaborn as sns\n",
    "%matplotlib inline\n",
    "\n",
    "import nltk\n",
    "from sklearn.utils import shuffle\n",
    "\n",
    "import joblib"
   ]
  },
  {
   "cell_type": "markdown",
   "metadata": {},
   "source": [
    "### Read Data"
   ]
  },
  {
   "cell_type": "code",
   "execution_count": 59,
   "metadata": {},
   "outputs": [],
   "source": [
    "def read_data(fpath) :\n",
    "    df = pd.read_csv(fpath, sep=\",\", header=None)\n",
    "    df.columns = [\"sentence\", \"label\"]\n",
    "    df = shuffle(df)\n",
    "    df = df.reset_index(drop=True)\n",
    "    return df\n",
    "\n",
    "df = {\"alexa\": read_data(\"training_data/alexa.txt\"),\n",
    "        \"deepspeech\": read_data(\"training_data/deepspeech.txt\"),\n",
    "        \"gspeech\": read_data(\"training_data/gspeech.txt\"),\n",
    "        \"gcloud\": read_data(\"training_data/gcloud.txt\"),\n",
    "        \"wav2letter\": read_data(\"training_data/wav2letter.txt\"),\n",
    "        \"wit\": read_data(\"training_data/wit.txt\"),\n",
    "        }\n",
    "\n",
    "BUG_LABEL = 1\n",
    "NON_BUG_LABEL = 0"
   ]
  },
  {
   "cell_type": "code",
   "execution_count": 60,
   "metadata": {},
   "outputs": [
    {
     "data": {
      "text/html": [
       "<div>\n",
       "<style scoped>\n",
       "    .dataframe tbody tr th:only-of-type {\n",
       "        vertical-align: middle;\n",
       "    }\n",
       "\n",
       "    .dataframe tbody tr th {\n",
       "        vertical-align: top;\n",
       "    }\n",
       "\n",
       "    .dataframe thead tr th {\n",
       "        text-align: left;\n",
       "    }\n",
       "\n",
       "    .dataframe thead tr:last-of-type th {\n",
       "        text-align: right;\n",
       "    }\n",
       "</style>\n",
       "<table border=\"1\" class=\"dataframe\">\n",
       "  <thead>\n",
       "    <tr>\n",
       "      <th></th>\n",
       "      <th colspan=\"4\" halign=\"left\">sentence</th>\n",
       "    </tr>\n",
       "    <tr>\n",
       "      <th></th>\n",
       "      <th>count</th>\n",
       "      <th>unique</th>\n",
       "      <th>top</th>\n",
       "      <th>freq</th>\n",
       "    </tr>\n",
       "    <tr>\n",
       "      <th>label</th>\n",
       "      <th></th>\n",
       "      <th></th>\n",
       "      <th></th>\n",
       "      <th></th>\n",
       "    </tr>\n",
       "  </thead>\n",
       "  <tbody>\n",
       "    <tr>\n",
       "      <th>0</th>\n",
       "      <td>179084</td>\n",
       "      <td>178271</td>\n",
       "      <td>not written in the book of the chronicles of the</td>\n",
       "      <td>11</td>\n",
       "    </tr>\n",
       "    <tr>\n",
       "      <th>1</th>\n",
       "      <td>1088</td>\n",
       "      <td>1088</td>\n",
       "      <td>she could only offer one solution it was</td>\n",
       "      <td>1</td>\n",
       "    </tr>\n",
       "  </tbody>\n",
       "</table>\n",
       "</div>"
      ],
      "text/plain": [
       "      sentence                                                               \n",
       "         count  unique                                               top freq\n",
       "label                                                                        \n",
       "0       179084  178271  not written in the book of the chronicles of the   11\n",
       "1         1088    1088          she could only offer one solution it was    1"
      ]
     },
     "execution_count": 60,
     "metadata": {},
     "output_type": "execute_result"
    }
   ],
   "source": [
    "df[\"deepspeech\"].groupby(\"label\").describe()"
   ]
  },
  {
   "cell_type": "markdown",
   "metadata": {},
   "source": [
    "### Data distribution"
   ]
  },
  {
   "cell_type": "code",
   "execution_count": 61,
   "metadata": {},
   "outputs": [
    {
     "data": {
      "image/png": "[encoded data removed]",
      "text/plain": [
       "<Figure size 432x432 with 1 Axes>"
      ]
     },
     "metadata": {},
     "output_type": "display_data"
    }
   ],
   "source": [
    "df[\"deepspeech\"][\"label\"].value_counts().plot(kind = 'pie', explode = [0, 0.1], figsize = (6, 6), autopct = '%1.1f%%', shadow = True)\n",
    "plt.ylabel(\"Bug vs No-Bug\")\n",
    "plt.legend([\"Non-Bug\", \"Bug\"])\n",
    "plt.show()"
   ]
  },
  {
   "cell_type": "markdown",
   "metadata": {},
   "source": [
    "we need to handle imbalance data"
   ]
  },
  {
   "cell_type": "markdown",
   "metadata": {},
   "source": [
    "### Handle Imbalance Data\n",
    "\n",
    "Upsample the small data"
   ]
  },
  {
   "cell_type": "code",
   "execution_count": 62,
   "metadata": {},
   "outputs": [
    {
     "data": {
      "image/png": "[encoded data removed]",
      "text/plain": [
       "<Figure size 432x432 with 1 Axes>"
      ]
     },
     "metadata": {},
     "output_type": "display_data"
    }
   ],
   "source": [
    "from sklearn.utils import resample\n",
    "\n",
    "def upsampleImbalanceData(df):\n",
    "    # Separate majority and minority classes\n",
    "    df_majority = df[df.label==NON_BUG_LABEL]\n",
    "    df_minority = df[df.label==BUG_LABEL]\n",
    "\n",
    "    # Upsample minority class\n",
    "    df_minority_upsampled = resample(df_minority, \n",
    "                                     replace=True,     # sample with replacement\n",
    "                                     n_samples=len(df_majority),    # to match majority class\n",
    "                                     random_state=123) # reproducible results\n",
    "\n",
    "    # Combine majority class with upsampled minority class\n",
    "    df_upsampled = pd.concat([df_majority, df_minority_upsampled])\n",
    "\n",
    "    # Display new class counts\n",
    "    df_upsampled.label.value_counts()\n",
    "\n",
    "    return df_upsampled.copy()\n",
    "\n",
    "sample = upsampleImbalanceData(df[\"deepspeech\"][:1000])\n",
    "sample[\"label\"].value_counts().plot(kind = 'pie', explode = [0, 0.1], figsize = (6, 6), autopct = '%1.1f%%', shadow = True)\n",
    "plt.ylabel(\"Bug vs No-Bug\")\n",
    "plt.legend([\"Non-Bug\", \"Bug\"])\n",
    "plt.show()"
   ]
  },
  {
   "cell_type": "markdown",
   "metadata": {},
   "source": [
    "### Feature Extraction"
   ]
  },
  {
   "cell_type": "code",
   "execution_count": 63,
   "metadata": {},
   "outputs": [],
   "source": [
    "from sklearn.feature_extraction.text import CountVectorizer\n",
    "from sklearn.feature_extraction.text import TfidfTransformer\n",
    "\n",
    "import string\n",
    "\n",
    "def remove_punctuation(sentence) :\n",
    "    return sentence.translate(str.maketrans('', '', string.punctuation))\n",
    "\n",
    "# Text processing: remove punction\n",
    "def text_process(sentence):\n",
    "    nopunc =[char for char in sentence if char not in string.punctuation]\n",
    "    nopunc=''.join(nopunc)\n",
    "    return [word for word in nopunc.split()]"
   ]
  },
  {
   "cell_type": "code",
   "execution_count": 64,
   "metadata": {},
   "outputs": [
    {
     "data": {
      "text/plain": [
       "['model/transformer.sav']"
      ]
     },
     "execution_count": 64,
     "metadata": {},
     "output_type": "execute_result"
    }
   ],
   "source": [
    "# bag of words\n",
    "corpus_sentence = pd.read_csv('corpus-sentence.txt', sep=\",\", header=None)\n",
    "corpus_sentence.columns = [\"sentence\"]\n",
    "corpus_sentence[\"sentence\"] = corpus_sentence[\"sentence\"].apply(remove_punctuation)\n",
    "# bow_transformer = CountVectorizer(analyzer=text_process).fit(corpus_sentence[\"sentence\"])\n",
    "bow_transformer = CountVectorizer(ngram_range=(1, 3)).fit(corpus_sentence[\"sentence\"])\n",
    "\n",
    "transformer = \"model/transformer.sav\"\n",
    "joblib.dump(bow_transformer, transformer)"
   ]
  },
  {
   "cell_type": "code",
   "execution_count": 65,
   "metadata": {},
   "outputs": [],
   "source": [
    "def extract_feature(data) :\n",
    "    return bow_transformer.transform(data)"
   ]
  },
  {
   "cell_type": "markdown",
   "metadata": {},
   "source": [
    "## Experiment"
   ]
  },
  {
   "cell_type": "markdown",
   "metadata": {},
   "source": [
    "### Trying Model in the First Batch"
   ]
  },
  {
   "cell_type": "code",
   "execution_count": 66,
   "metadata": {},
   "outputs": [],
   "source": [
    "from sklearn.linear_model import LogisticRegression\n",
    "from sklearn.svm import SVC\n",
    "from sklearn.naive_bayes import MultinomialNB\n",
    "from sklearn.tree import DecisionTreeClassifier\n",
    "from sklearn.neighbors import KNeighborsClassifier\n",
    "from sklearn.ensemble import RandomForestClassifier\n",
    "from sklearn.ensemble import AdaBoostClassifier\n",
    "from sklearn.ensemble import BaggingClassifier\n",
    "from sklearn.ensemble import ExtraTreesClassifier\n",
    "from sklearn.metrics import classification_report, confusion_matrix, accuracy_score, precision_score, recall_score, f1_score"
   ]
  },
  {
   "cell_type": "code",
   "execution_count": 67,
   "metadata": {},
   "outputs": [],
   "source": [
    "FIRST_BATCH_SIZE = 15000\n",
    "BATCH_SIZE = 1000\n",
    "MAX_SIZE = len(df[\"deepspeech\"][\"label\"])\n",
    "\n",
    "features = {}\n",
    "labels = {}\n",
    "for k,v in df.items() :\n",
    "    data = v[:FIRST_BATCH_SIZE].copy()\n",
    "    data = upsampleImbalanceData(data)\n",
    "    features[k] = extract_feature(data[\"sentence\"])\n",
    "    labels[k] = data[\"label\"]\n",
    "# tfidf_transformer=TfidfTransformer().fit(sentence_bow)\n",
    "# features = tfidf_transformer.transform(sentence_bow)"
   ]
  },
  {
   "cell_type": "code",
   "execution_count": 68,
   "metadata": {},
   "outputs": [],
   "source": [
    "svc = SVC(kernel='sigmoid', gamma=1.0)\n",
    "knc = KNeighborsClassifier(n_neighbors=10)\n",
    "mnb = MultinomialNB(alpha=0.2)\n",
    "dtc = DecisionTreeClassifier(min_samples_split=7, random_state=111)\n",
    "lrc = LogisticRegression(solver='liblinear', penalty='l1')\n",
    "rfc = RandomForestClassifier(n_estimators=31, random_state=111)\n",
    "abc = AdaBoostClassifier(n_estimators=31, random_state=111)\n",
    "bc = BaggingClassifier(n_estimators=10, random_state=111)\n",
    "etc = ExtraTreesClassifier(n_estimators=10, random_state=111)"
   ]
  },
  {
   "cell_type": "code",
   "execution_count": 69,
   "metadata": {},
   "outputs": [],
   "source": [
    "clfs = {'SVC' : svc,'KN' : knc, 'NB': mnb, 'DT': dtc, 'LR': lrc, 'RF': rfc, 'AdaBoost': abc, 'BgC': bc, 'ETC': etc}\n",
    "# clfs = {'AdaBoost': abc}"
   ]
  },
  {
   "cell_type": "code",
   "execution_count": 70,
   "metadata": {},
   "outputs": [],
   "source": [
    "def train_classifier(clf, feature_train, labels_train):    \n",
    "    clf.fit(feature_train, labels_train)\n",
    "    \n",
    "def predict_labels(clf, features):\n",
    "    return (clf.predict(features))"
   ]
  },
  {
   "cell_type": "code",
   "execution_count": 71,
   "metadata": {},
   "outputs": [],
   "source": [
    "from sklearn.base import clone as clone_model\n",
    "\n",
    "\n",
    "models = {}\n",
    "# selected_clfs = [\"SVC\", \"KN\", \"NB\", \"DT\", \"LR\", \"RF\", \"AdaBoost\", \"BgC\", \"ETC\"]\n",
    "selected_clfs = [\"NB\"]\n",
    "for k in selected_clfs :\n",
    "    per_sr_model = {}\n",
    "    for key_sr in features.keys() :\n",
    "        model = None\n",
    "        model = clone_model(clfs[k])\n",
    "        train_classifier(model, features[key_sr], labels[key_sr])\n",
    "        per_sr_model[key_sr] = model\n",
    "    models[k] = per_sr_model\n",
    "    \n",
    "for clf in models.keys() :\n",
    "    for sr in models[clf].keys():\n",
    "        filename = \"model/\" + clf + \"_\" + sr + \".sav\"\n",
    "        joblib.dump(models[clf][sr], filename)\n",
    "    "
   ]
  },
  {
   "cell_type": "markdown",
   "metadata": {},
   "source": [
    "### Trying Model for the Next Batch until Finish"
   ]
  },
  {
   "cell_type": "code",
   "execution_count": 72,
   "metadata": {},
   "outputs": [
    {
     "name": "stdout",
     "output_type": "stream",
     "text": [
      "Classifier: NB\n",
      "               Predicted  CorrectlyPredictedBug  UndetectedBug  Precision  \\\n",
      "15000 - 16000        248                     73             78       0.29   \n",
      "16000 - 17000        217                     46             94       0.21   \n",
      "17000 - 18000        226                     68             86       0.30   \n",
      "18000 - 19000        242                     67             89       0.28   \n",
      "19000 - 20000        232                     55             84       0.24   \n",
      "\n",
      "               Recall    F1  \n",
      "15000 - 16000    0.48  0.36  \n",
      "16000 - 17000    0.33  0.26  \n",
      "17000 - 18000    0.44  0.36  \n",
      "18000 - 19000    0.43  0.34  \n",
      "19000 - 20000    0.40  0.30  \n",
      "Total Generated: 1165\n",
      "Total Bug: 309\n",
      "Undetected Bug: 431\n",
      "Precision: 0.26\n",
      "Recall: 0.42\n",
      "F1: 0.32\n",
      "\n",
      "\n"
     ]
    }
   ],
   "source": [
    "def intersection(lst1, lst2): \n",
    "    lst3 = [value for value in lst1 if value in lst2] \n",
    "    return lst3\n",
    "\n",
    "MAX_SIZE = 20000\n",
    "\n",
    "\n",
    "for key_clf, v in models.items() :\n",
    "    print(\"Classifier: \" + key_clf) \n",
    "    # classify the selected data\n",
    "    training_data = {}\n",
    "    for key_sr, model in v.items():\n",
    "        training_data[key_sr] = df[key_sr][:FIRST_BATCH_SIZE].copy()\n",
    "\n",
    "    lower_bound = FIRST_BATCH_SIZE\n",
    "\n",
    "    columns = [\"Predicted\", \"CorrectlyPredictedBug\", \"UndetectedBug\", \"Precision\", \"Recall\", \"F1\"]\n",
    "    index = []\n",
    "    performance_data = []\n",
    "\n",
    "    while (lower_bound < MAX_SIZE) :\n",
    "        # set the upper bound size\n",
    "        upper_bound = lower_bound + BATCH_SIZE\n",
    "        if (upper_bound > MAX_SIZE) :\n",
    "            upper_bound = MAX_SIZE\n",
    "        batch = str(lower_bound) + \" - \" + str(upper_bound)\n",
    "        index.append(batch)\n",
    "            \n",
    "        union_used_index = []\n",
    "        union_bug_index = []\n",
    "        bug_index_per_model = {}\n",
    "            \n",
    "        for key_sr, model in v.items():\n",
    "            # get the data to be selected\n",
    "            current_data = df[key_sr][lower_bound:upper_bound].copy()\n",
    "            current_sentence = current_data[\"sentence\"]\n",
    "            current_labels = current_data[\"label\"]\n",
    "\n",
    "            # extract feature from the data\n",
    "            current_features = extract_feature(current_sentence)\n",
    "\n",
    "            # predict the current data\n",
    "            pred = predict_labels(model, current_features)\n",
    "\n",
    "            # see the classifier performance\n",
    "            unused_index = np.where(pred == NON_BUG_LABEL)\n",
    "            used_index = np.where(pred == BUG_LABEL)\n",
    "            bug_index = np.where(current_labels == BUG_LABEL)\n",
    "            non_bug_index = np.where(current_labels == NON_BUG_LABEL)\n",
    "            \n",
    "            union_used_index = list(set().union(union_used_index, used_index[0]))\n",
    "            union_bug_index = list(set().union(union_bug_index, bug_index[0]))\n",
    "            bug_index_per_model[key_sr] = bug_index[0]\n",
    "            \n",
    "\n",
    "        intersect = intersection(union_used_index, union_bug_index)\n",
    "        intersection_length = len(intersect)\n",
    "        undetected_bug = len(union_bug_index)-intersection_length\n",
    "        precision = 0\n",
    "        if (len(union_used_index) != 0) :\n",
    "            precision = round(intersection_length/len(union_used_index), 2)\n",
    "        recall = 0\n",
    "        if ((intersection_length + undetected_bug) != 0) :\n",
    "            recall = round(intersection_length/(intersection_length + undetected_bug), 2)\n",
    "        precision_recall = precision + recall\n",
    "        f1 = 0\n",
    "        if precision_recall != 0 :\n",
    "            f1 = round( 2 * precision * recall / (precision_recall), 2)\n",
    "        performance_data.append([len(union_used_index), intersection_length, undetected_bug, precision, recall, f1])\n",
    "        \n",
    "        # add the predicted data to previous data\n",
    "        if (len(union_used_index) > 0) :\n",
    "            for key_sr, bug_index in bug_index_per_model.items() :\n",
    "                intersection_index = intersection(union_used_index, bug_index)\n",
    "                added_data = current_data.iloc[intersection_index,:]\n",
    "                training_data[key_sr].append(added_data)\n",
    "\n",
    "                # handle imbalance data\n",
    "                training_data[key_sr] = upsampleImbalanceData(training_data[key_sr])\n",
    "\n",
    "                # re-extract feature\n",
    "                features[key_sr] = bow_transformer.transform(training_data[key_sr][\"sentence\"])\n",
    "                labels[key_sr] = training_data[key_sr][\"label\"]\n",
    "\n",
    "                # re-train the model \n",
    "                train_classifier(model, features[key_sr], labels[key_sr])\n",
    "\n",
    "        # update the lower bound\n",
    "        lower_bound = upper_bound\n",
    "\n",
    "    performance = pd.DataFrame(performance_data, index=index, columns=columns)\n",
    "    print(performance)\n",
    "    generated = int(performance[\"Predicted\"].sum(axis=0))\n",
    "    bug = int(performance[\"CorrectlyPredictedBug\"].sum(axis=0))\n",
    "    undetected_bug =  int(performance[\"UndetectedBug\"].sum(axis=0))\n",
    "    precision = round(performance[\"Precision\"].mean(), 2)\n",
    "    recall = round(performance[\"Recall\"].mean(), 2)\n",
    "    f1 = round(performance[\"F1\"].mean(), 2)\n",
    "    print(\"Total Generated: \" + str(generated))\n",
    "    print(\"Total Bug: \" + str(bug))\n",
    "    print(\"Undetected Bug: \" + str(undetected_bug))\n",
    "    print(\"Precision: \" + str(precision))\n",
    "    print(\"Recall: \" + str(recall))\n",
    "    print(\"F1: \" + str(f1))\n",
    "    print(\"\\n\")\n",
    "    "
   ]
  },
  {
   "cell_type": "code",
   "execution_count": null,
   "metadata": {},
   "outputs": [],
   "source": []
  },
  {
   "cell_type": "code",
   "execution_count": null,
   "metadata": {},
   "outputs": [],
   "source": []
  }
 ],
 "metadata": {
  "kernelspec": {
   "display_name": "Python 3",
   "language": "python",
   "name": "python3"
  },
  "language_info": {
   "codemirror_mode": {
    "name": "ipython",
    "version": 3
   },
   "file_extension": ".py",
   "mimetype": "text/x-python",
   "name": "python",
   "nbconvert_exporter": "python",
   "pygments_lexer": "ipython3",
   "version": "3.7.3"
  }
 },
 "nbformat": 4,
 "nbformat_minor": 4
}
